{
 "cells": [
  {
   "cell_type": "code",
   "execution_count": 18,
   "id": "c58d9fba-28aa-466e-b286-ab45c7f12268",
   "metadata": {},
   "outputs": [],
   "source": [
    "corpus = \"\"\"\n",
    "I am piyush bhatnagar! welcome to my profile. \n",
    "I am a mechanical engineer. I play guitar but loves to code more.\n",
    "\"\"\""
   ]
  },
  {
   "cell_type": "code",
   "execution_count": 19,
   "id": "c7992565-44d4-495a-ae54-44be71d09b71",
   "metadata": {},
   "outputs": [
    {
     "name": "stdout",
     "output_type": "stream",
     "text": [
      "\n",
      "I am piyush bhatnagar! welcome to my profile. \n",
      "I am a mechanical engineer. I play guitar but loves to code more.\n",
      "\n"
     ]
    }
   ],
   "source": [
    "print(corpus)"
   ]
  },
  {
   "cell_type": "code",
   "execution_count": 20,
   "id": "153ced48-69f6-4b1a-8001-5e77fe4a393a",
   "metadata": {},
   "outputs": [],
   "source": [
    "## Tokenization\n",
    "## Sentence --> Paragraph\n",
    "from nltk.tokenize import sent_tokenize"
   ]
  },
  {
   "cell_type": "code",
   "execution_count": 22,
   "id": "29babdc7-60c4-4fa2-a322-4ddc7b9dca96",
   "metadata": {},
   "outputs": [],
   "source": [
    "documents = sent_tokenize(corpus)"
   ]
  },
  {
   "cell_type": "code",
   "execution_count": 23,
   "id": "f0fccd8b-af66-482a-9b91-783b6262ac2e",
   "metadata": {},
   "outputs": [
    {
     "name": "stdout",
     "output_type": "stream",
     "text": [
      "\n",
      "I am piyush bhatnagar!\n",
      "welcome to my profile.\n",
      "I am a mechanical engineer.\n",
      "I play guitar but loves to code more.\n"
     ]
    }
   ],
   "source": [
    "for sentence in documents:\n",
    "    print(sentence)"
   ]
  },
  {
   "cell_type": "code",
   "execution_count": 24,
   "id": "5d513b8f-9336-425f-9975-bfa99318151f",
   "metadata": {},
   "outputs": [],
   "source": [
    "## Tokenization\n",
    "## Paragraph to words\n",
    "## Sentence to words\n",
    "from nltk.tokenize import word_tokenize"
   ]
  },
  {
   "cell_type": "code",
   "execution_count": 25,
   "id": "953437d6-0680-4475-84c1-fe057669ab89",
   "metadata": {},
   "outputs": [
    {
     "data": {
      "text/plain": [
       "['I',\n",
       " 'am',\n",
       " 'piyush',\n",
       " 'bhatnagar',\n",
       " '!',\n",
       " 'welcome',\n",
       " 'to',\n",
       " 'my',\n",
       " 'profile',\n",
       " '.',\n",
       " 'I',\n",
       " 'am',\n",
       " 'a',\n",
       " 'mechanical',\n",
       " 'engineer',\n",
       " '.',\n",
       " 'I',\n",
       " 'play',\n",
       " 'guitar',\n",
       " 'but',\n",
       " 'loves',\n",
       " 'to',\n",
       " 'code',\n",
       " 'more',\n",
       " '.']"
      ]
     },
     "execution_count": 25,
     "metadata": {},
     "output_type": "execute_result"
    }
   ],
   "source": [
    "word_tokenize(corpus)"
   ]
  },
  {
   "cell_type": "code",
   "execution_count": 28,
   "id": "40423178-221e-4d22-b25e-d9190fa43a91",
   "metadata": {},
   "outputs": [],
   "source": [
    "from nltk.tokenize import wordpunct_tokenize\n",
    "wordpunct = wordpunct_tokenize(corpus)"
   ]
  },
  {
   "cell_type": "code",
   "execution_count": 29,
   "id": "fbe44b69-d60b-4a38-96b4-72cfdc12e200",
   "metadata": {},
   "outputs": [
    {
     "data": {
      "text/plain": [
       "['I',\n",
       " 'am',\n",
       " 'piyush',\n",
       " 'bhatnagar',\n",
       " '!',\n",
       " 'welcome',\n",
       " 'to',\n",
       " 'my',\n",
       " 'profile',\n",
       " '.',\n",
       " 'I',\n",
       " 'am',\n",
       " 'a',\n",
       " 'mechanical',\n",
       " 'engineer',\n",
       " '.',\n",
       " 'I',\n",
       " 'play',\n",
       " 'guitar',\n",
       " 'but',\n",
       " 'loves',\n",
       " 'to',\n",
       " 'code',\n",
       " 'more',\n",
       " '.']"
      ]
     },
     "execution_count": 29,
     "metadata": {},
     "output_type": "execute_result"
    }
   ],
   "source": [
    "wordpunct"
   ]
  },
  {
   "cell_type": "code",
   "execution_count": 30,
   "id": "dde357e5-a591-4c36-b5b5-3abf829b0cc8",
   "metadata": {},
   "outputs": [],
   "source": [
    "from nltk.tokenize import TreebankWordTokenizer"
   ]
  },
  {
   "cell_type": "code",
   "execution_count": 32,
   "id": "3bb1d250-9914-4172-9f23-6e817ea4e126",
   "metadata": {},
   "outputs": [
    {
     "data": {
      "text/plain": [
       "['I',\n",
       " 'am',\n",
       " 'piyush',\n",
       " 'bhatnagar',\n",
       " '!',\n",
       " 'welcome',\n",
       " 'to',\n",
       " 'my',\n",
       " 'profile.',\n",
       " 'I',\n",
       " 'am',\n",
       " 'a',\n",
       " 'mechanical',\n",
       " 'engineer.',\n",
       " 'I',\n",
       " 'play',\n",
       " 'guitar',\n",
       " 'but',\n",
       " 'loves',\n",
       " 'to',\n",
       " 'code',\n",
       " 'more',\n",
       " '.']"
      ]
     },
     "execution_count": 32,
     "metadata": {},
     "output_type": "execute_result"
    }
   ],
   "source": [
    "tokenizer = TreebankWordTokenizer()\n",
    "tokenizer.tokenize(corpus) "
   ]
  },
  {
   "cell_type": "code",
   "execution_count": null,
   "id": "6bfd37b3-ef75-4280-b0ff-ae3315d77b81",
   "metadata": {},
   "outputs": [],
   "source": []
  },
  {
   "cell_type": "code",
   "execution_count": null,
   "id": "9ca89eac-aeaf-40ed-8f60-c547c002670f",
   "metadata": {},
   "outputs": [],
   "source": []
  },
  {
   "cell_type": "code",
   "execution_count": null,
   "id": "cbd44fe8-54f2-48c3-a190-f6ef8f93ee2b",
   "metadata": {},
   "outputs": [],
   "source": []
  },
  {
   "cell_type": "code",
   "execution_count": null,
   "id": "1167b308-2d72-441f-b8ee-4cbb3e15d54b",
   "metadata": {},
   "outputs": [],
   "source": []
  },
  {
   "cell_type": "code",
   "execution_count": null,
   "id": "d53f2491-cf4b-48c8-a024-c03ddffe2cbd",
   "metadata": {},
   "outputs": [],
   "source": []
  },
  {
   "cell_type": "code",
   "execution_count": null,
   "id": "afa86073-c7b0-404c-ae36-2d385987eb2f",
   "metadata": {},
   "outputs": [],
   "source": []
  },
  {
   "cell_type": "code",
   "execution_count": null,
   "id": "e3803f1e-278e-44f8-9b48-2ab7aad5d7d6",
   "metadata": {},
   "outputs": [],
   "source": []
  },
  {
   "cell_type": "code",
   "execution_count": null,
   "id": "8223ee9f-b038-4406-a467-d2978dbd98f9",
   "metadata": {},
   "outputs": [],
   "source": []
  },
  {
   "cell_type": "code",
   "execution_count": null,
   "id": "f5061c92-4bd4-4760-b648-5b440f1b4c5b",
   "metadata": {},
   "outputs": [],
   "source": []
  },
  {
   "cell_type": "code",
   "execution_count": null,
   "id": "3e7e0978-e4e4-49a6-861f-cbff8eb44ead",
   "metadata": {},
   "outputs": [],
   "source": []
  },
  {
   "cell_type": "code",
   "execution_count": null,
   "id": "77737e18-a54f-40af-b116-e25ca35e2c7e",
   "metadata": {},
   "outputs": [],
   "source": []
  },
  {
   "cell_type": "code",
   "execution_count": null,
   "id": "bbb4ef45-35eb-45ec-acfb-24fc1d885b4d",
   "metadata": {},
   "outputs": [],
   "source": []
  },
  {
   "cell_type": "code",
   "execution_count": null,
   "id": "341a9bf0-7138-48d6-ad68-959c009e94ae",
   "metadata": {},
   "outputs": [],
   "source": []
  },
  {
   "cell_type": "code",
   "execution_count": null,
   "id": "9a164698-ac0f-4068-8c83-e2dd2071d841",
   "metadata": {},
   "outputs": [],
   "source": []
  },
  {
   "cell_type": "code",
   "execution_count": null,
   "id": "7eda3203-ab56-4f9f-809e-9d7ecfb7681a",
   "metadata": {},
   "outputs": [],
   "source": []
  },
  {
   "cell_type": "code",
   "execution_count": null,
   "id": "a0d72f7f-3d01-4e84-859a-6d400cfde068",
   "metadata": {},
   "outputs": [],
   "source": []
  },
  {
   "cell_type": "code",
   "execution_count": null,
   "id": "cfd550c8-297b-4837-bb7b-6dce8dafcf06",
   "metadata": {},
   "outputs": [],
   "source": []
  },
  {
   "cell_type": "code",
   "execution_count": null,
   "id": "4690ee58-c182-41ef-ad96-9c414e4593aa",
   "metadata": {},
   "outputs": [],
   "source": []
  },
  {
   "cell_type": "code",
   "execution_count": null,
   "id": "c9926acc-b57b-4748-8f0d-2166c9676058",
   "metadata": {},
   "outputs": [],
   "source": []
  },
  {
   "cell_type": "code",
   "execution_count": null,
   "id": "f0cd6841-4a8b-48e4-9101-153231302d68",
   "metadata": {},
   "outputs": [],
   "source": []
  },
  {
   "cell_type": "code",
   "execution_count": null,
   "id": "02074bf9-cc21-4e52-961f-fd157e673692",
   "metadata": {},
   "outputs": [],
   "source": []
  }
 ],
 "metadata": {
  "kernelspec": {
   "display_name": "Python 3 (ipykernel)",
   "language": "python",
   "name": "python3"
  },
  "language_info": {
   "codemirror_mode": {
    "name": "ipython",
    "version": 3
   },
   "file_extension": ".py",
   "mimetype": "text/x-python",
   "name": "python",
   "nbconvert_exporter": "python",
   "pygments_lexer": "ipython3",
   "version": "3.12.5"
  }
 },
 "nbformat": 4,
 "nbformat_minor": 5
}
